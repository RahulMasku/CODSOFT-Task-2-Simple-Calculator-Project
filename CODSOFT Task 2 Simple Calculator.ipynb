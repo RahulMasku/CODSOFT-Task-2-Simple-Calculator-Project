{
 "cells": [
  {
   "cell_type": "markdown",
   "id": "636aff19",
   "metadata": {},
   "source": [
    "### CodSoft Internship Program."
   ]
  },
  {
   "cell_type": "markdown",
   "id": "b17321cd",
   "metadata": {},
   "source": [
    "###  CODSOFT Task 2: Simple Calculator"
   ]
  },
  {
   "cell_type": "markdown",
   "id": "9ee91e2e",
   "metadata": {},
   "source": [
    "#### Code Structure:"
   ]
  },
  {
   "cell_type": "code",
   "execution_count": null,
   "id": "9dd0fa95",
   "metadata": {},
   "outputs": [],
   "source": [
    "def calculator():\n",
    "    num1 = float(input(\"Enter first number: \"))\n",
    "    num2 = float(input(\"Enter second number: \"))\n",
    "    operation = input(\"Enter operation (+, -, *, /): \")\n",
    "\n",
    "    if operation == '+':\n",
    "        result = num1 + num2\n",
    "    elif operation == '-':\n",
    "        result = num1 - num2\n",
    "    elif operation == '*':\n",
    "        result = num1 * num2\n",
    "    elif operation == '/':\n",
    "        result = num1 / num2\n",
    "    else:\n",
    "        print(\"Invalid operation.\")\n",
    "        return\n",
    "\n",
    "    print(f\"Result: {result}\")\n",
    "\n",
    "## Example Usage:\n",
    "calculator()\n"
   ]
  }
 ],
 "metadata": {
  "kernelspec": {
   "display_name": "Python 3 (ipykernel)",
   "language": "python",
   "name": "python3"
  },
  "language_info": {
   "codemirror_mode": {
    "name": "ipython",
    "version": 3
   },
   "file_extension": ".py",
   "mimetype": "text/x-python",
   "name": "python",
   "nbconvert_exporter": "python",
   "pygments_lexer": "ipython3",
   "version": "3.11.3"
  }
 },
 "nbformat": 4,
 "nbformat_minor": 5
}
